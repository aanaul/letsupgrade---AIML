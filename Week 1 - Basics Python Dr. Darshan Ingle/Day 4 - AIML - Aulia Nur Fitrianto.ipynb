{
 "cells": [
  {
   "cell_type": "markdown",
   "metadata": {},
   "source": [
    "# Day 4 Assignment"
   ]
  },
  {
   "cell_type": "markdown",
   "metadata": {},
   "source": [
    "## Question 1\n",
    "\n",
    "### add, subs, mul, div, floor div and mod on complex number \n",
    "\n",
    "#### floor division and modulo operations is unable to use on complex number it will show TypeError"
   ]
  },
  {
   "cell_type": "code",
   "execution_count": 13,
   "metadata": {},
   "outputs": [
    {
     "name": "stdout",
     "output_type": "stream",
     "text": [
      "addition : (3+4j)\n",
      "substract : (-1+0j)\n",
      "multiply: (-2+6j)\n",
      "division : (0.75+0.25j)\n"
     ]
    }
   ],
   "source": [
    "a = 1 + 2j\n",
    "b = 2 + 2j\n",
    "\n",
    "# addition\n",
    "c = a + b\n",
    "\n",
    "#substract\n",
    "d = a - b\n",
    "\n",
    "#multiply\n",
    "e = a*b\n",
    "\n",
    "#Division\n",
    "f = a/b\n",
    "\n",
    "print(\"addition :\",c)\n",
    "print(\"substract :\",d)\n",
    "print(\"multiply:\",e)\n",
    "print(\"division :\",f)\n"
   ]
  },
  {
   "cell_type": "markdown",
   "metadata": {},
   "source": [
    "## Question 2\n",
    "\n",
    "## Range function and its parameters, some example"
   ]
  },
  {
   "cell_type": "markdown",
   "metadata": {},
   "source": [
    "###### Range() functions is built-in in python and its used to generate a sequence of numbers and for specific number of times, range function is commonly used for iterate sequence type like List etc etc. by default range is started from 0 and increments by 1 by default but you can change the increment and the starting points, also stops before a specified number.\n",
    "\n",
    "\n",
    "\n",
    "###### Parameter of range.\n",
    "###### Start (optional) default start is 0, this is an integer number specifying start position\n",
    "###### Stop (Required) number position to stop.\n",
    "###### Step (Optional) number of incrementation, by default is 1."
   ]
  },
  {
   "cell_type": "code",
   "execution_count": 15,
   "metadata": {},
   "outputs": [
    {
     "name": "stdout",
     "output_type": "stream",
     "text": [
      "4 6 8 10 12 14 16 18 20 22 24 26 28 30 32 34 36 38 "
     ]
    }
   ],
   "source": [
    "ex = range(4, 40, 2)\n",
    "for i in ex:\n",
    "    print(i, end=\" \")"
   ]
  },
  {
   "cell_type": "markdown",
   "metadata": {},
   "source": [
    "## Question 3\n",
    "\n",
    "### two number, subs, if > 25 show multiply else div\n"
   ]
  },
  {
   "cell_type": "code",
   "execution_count": 19,
   "metadata": {},
   "outputs": [
    {
     "name": "stdout",
     "output_type": "stream",
     "text": [
      "result of substract : 40\n",
      "Result of multiply:  500\n"
     ]
    }
   ],
   "source": [
    "a = 50\n",
    "b = 10\n",
    "c = a-b\n",
    "print(\"result of substract :\",c)\n",
    "if c > 25:\n",
    "    print(\"Result of multiply: \",a*b)\n",
    "else:\n",
    "    print(\"Result of division: \",a/b)"
   ]
  },
  {
   "cell_type": "markdown",
   "metadata": {},
   "source": [
    "## Question 4\n",
    "\n",
    "### consider 10 elements, if div by 2, show square of that number minus 2"
   ]
  },
  {
   "cell_type": "code",
   "execution_count": 30,
   "metadata": {},
   "outputs": [
    {
     "name": "stdout",
     "output_type": "stream",
     "text": [
      "2 14 34 62 98 "
     ]
    }
   ],
   "source": [
    "lst = [1,2,3,4,5,6,7,8,9,10]\n",
    "\n",
    "for i in lst:\n",
    "    if i%2==0:\n",
    "        print((i**2)-2,end=\" \")"
   ]
  },
  {
   "cell_type": "markdown",
   "metadata": {},
   "source": [
    "## Question 5\n",
    "### Consider 10 elements, print all > 7 when number is / 2"
   ]
  },
  {
   "cell_type": "code",
   "execution_count": 12,
   "metadata": {},
   "outputs": [
    {
     "name": "stdout",
     "output_type": "stream",
     "text": [
      "8\n",
      "10\n"
     ]
    }
   ],
   "source": [
    "lst2 = [1,2,3,4,5,6,7,8,9,10]\n",
    "\n",
    "for i in lst2:\n",
    "    if i%2==0 and i > 7:\n",
    "        print(i)\n",
    "         "
   ]
  }
 ],
 "metadata": {
  "kernelspec": {
   "display_name": "Python 3",
   "language": "python",
   "name": "python3"
  },
  "language_info": {
   "codemirror_mode": {
    "name": "ipython",
    "version": 3
   },
   "file_extension": ".py",
   "mimetype": "text/x-python",
   "name": "python",
   "nbconvert_exporter": "python",
   "pygments_lexer": "ipython3",
   "version": "3.7.6"
  }
 },
 "nbformat": 4,
 "nbformat_minor": 4
}
