{
 "cells": [
  {
   "cell_type": "markdown",
   "metadata": {},
   "source": [
    "# Assignment Day 5\n",
    "\n",
    "## Question 1\n",
    "### 20 prime natural numbers"
   ]
  },
  {
   "cell_type": "code",
   "execution_count": 120,
   "metadata": {},
   "outputs": [
    {
     "name": "stdout",
     "output_type": "stream",
     "text": [
      "Prime Numbers between 1-20 : \n",
      "\n",
      "2 3 5 7 11 13 17 19 "
     ]
    }
   ],
   "source": [
    "first = 1\n",
    "last = 21\n",
    "print(\"Prime Numbers between 1-20 : \")\n",
    "print(\"\")\n",
    "for prime in range(first, last + 1):\n",
    "    if prime > 1:\n",
    "        for i in range(2, prime):\n",
    "            if (prime%i) == 0 and prime != 2 :\n",
    "                break\n",
    "        else:\n",
    "            print(prime, end=\" \")"
   ]
  },
  {
   "cell_type": "markdown",
   "metadata": {},
   "source": [
    "## Question 2\n",
    "### 15 functions of string"
   ]
  },
  {
   "cell_type": "code",
   "execution_count": 44,
   "metadata": {},
   "outputs": [
    {
     "name": "stdout",
     "output_type": "stream",
     "text": [
      "30\n"
     ]
    }
   ],
   "source": [
    "string = \"Hello AIML Letsupgrade Batch 2\"\n",
    "\n",
    "print(len(string))"
   ]
  },
  {
   "cell_type": "code",
   "execution_count": 45,
   "metadata": {},
   "outputs": [
    {
     "name": "stdout",
     "output_type": "stream",
     "text": [
      "<class 'str'>\n"
     ]
    }
   ],
   "source": [
    "print(type(string))"
   ]
  },
  {
   "cell_type": "code",
   "execution_count": 49,
   "metadata": {},
   "outputs": [
    {
     "name": "stdout",
     "output_type": "stream",
     "text": [
      "Hello aiml letsupgrade batch 2\n"
     ]
    }
   ],
   "source": [
    "print(string.capitalize())"
   ]
  },
  {
   "cell_type": "code",
   "execution_count": 57,
   "metadata": {},
   "outputs": [
    {
     "name": "stdout",
     "output_type": "stream",
     "text": [
      "HELLO AIML LETSUPGRADE BATCH 2\n"
     ]
    }
   ],
   "source": [
    "print(string.upper())"
   ]
  },
  {
   "cell_type": "code",
   "execution_count": 58,
   "metadata": {},
   "outputs": [
    {
     "name": "stdout",
     "output_type": "stream",
     "text": [
      "hello aiml letsupgrade batch 2\n"
     ]
    }
   ],
   "source": [
    "print(string.lower())"
   ]
  },
  {
   "cell_type": "code",
   "execution_count": 59,
   "metadata": {},
   "outputs": [
    {
     "name": "stdout",
     "output_type": "stream",
     "text": [
      "False\n"
     ]
    }
   ],
   "source": [
    "print(string.isalpha())"
   ]
  },
  {
   "cell_type": "code",
   "execution_count": 61,
   "metadata": {},
   "outputs": [
    {
     "name": "stdout",
     "output_type": "stream",
     "text": [
      "llo AIML\n"
     ]
    }
   ],
   "source": [
    "print(string[2:10])"
   ]
  },
  {
   "cell_type": "code",
   "execution_count": 62,
   "metadata": {},
   "outputs": [
    {
     "name": "stdout",
     "output_type": "stream",
     "text": [
      "2\n"
     ]
    }
   ],
   "source": [
    "print(string[-1])"
   ]
  },
  {
   "cell_type": "code",
   "execution_count": 71,
   "metadata": {},
   "outputs": [
    {
     "name": "stdout",
     "output_type": "stream",
     "text": [
      "ch\n"
     ]
    }
   ],
   "source": [
    "print(string[-4:-2])"
   ]
  },
  {
   "cell_type": "code",
   "execution_count": 79,
   "metadata": {},
   "outputs": [
    {
     "name": "stdout",
     "output_type": "stream",
     "text": [
      "Hai AIML Letsupgrade Batch 2\n"
     ]
    }
   ],
   "source": [
    "print(string.replace(\"Hello\",\"Hai\"))"
   ]
  },
  {
   "cell_type": "code",
   "execution_count": 84,
   "metadata": {},
   "outputs": [
    {
     "name": "stdout",
     "output_type": "stream",
     "text": [
      "['Hello', 'AIML', 'Letsupgrade', 'Batch', '2']\n"
     ]
    }
   ],
   "source": [
    "print(string.split())"
   ]
  },
  {
   "cell_type": "code",
   "execution_count": 87,
   "metadata": {},
   "outputs": [
    {
     "name": "stdout",
     "output_type": "stream",
     "text": [
      "29\n"
     ]
    }
   ],
   "source": [
    "print(string.index(\"2\"))"
   ]
  },
  {
   "cell_type": "code",
   "execution_count": 110,
   "metadata": {},
   "outputs": [
    {
     "name": "stdout",
     "output_type": "stream",
     "text": [
      "False\n"
     ]
    }
   ],
   "source": [
    "print(string.isalnum())"
   ]
  },
  {
   "cell_type": "markdown",
   "metadata": {},
   "source": [
    "## Question 3\n",
    "\n",
    "### Palindrome, Anagram, or none"
   ]
  },
  {
   "cell_type": "code",
   "execution_count": 98,
   "metadata": {},
   "outputs": [
    {
     "name": "stdout",
     "output_type": "stream",
     "text": [
      "Enter text here :tattarrattat\n",
      "It's a Palindrome\n"
     ]
    }
   ],
   "source": [
    "def isPalindrome(pld):\n",
    "    return pld == pld[::-1]\n",
    "    \n",
    "pld = input(\"Enter text here :\")\n",
    "jwb = isPalindrome(pld)\n",
    " \n",
    "if jwb:\n",
    "    print(\"It's a Palindrome\")\n",
    "else:\n",
    "    print(\"It's not a Palindrome\")"
   ]
  },
  {
   "cell_type": "code",
   "execution_count": 99,
   "metadata": {},
   "outputs": [
    {
     "name": "stdout",
     "output_type": "stream",
     "text": [
      "Input here: Zinedine Zidane gets a red card in the World Cup Final\n",
      "Input here: Italians wins French cried and legend Zizou Departed\n",
      "The strings are anagrams.\n"
     ]
    }
   ],
   "source": [
    "def isAnagram(str1, str2): \n",
    "      \n",
    "    if(sorted(s1)== sorted(s2)): \n",
    "        print(\"The strings are anagrams.\")  \n",
    "    else: \n",
    "        print(\"The strings aren't anagrams.\")          \n",
    "             \n",
    "str1 =input(\"Input here: \")\n",
    "str2 =input(\"Input here: \")\n",
    "isAnagram(str1, str2) "
   ]
  },
  {
   "cell_type": "markdown",
   "metadata": {},
   "source": [
    "## Question 4\n",
    "\n",
    "###  removes all additional characters from string and convert to lower case"
   ]
  },
  {
   "cell_type": "code",
   "execution_count": 109,
   "metadata": {},
   "outputs": [
    {
     "name": "stdout",
     "output_type": "stream",
     "text": [
      "Enter here : fOllOw Me On thiS World @world\n",
      "followmeonthisworldworld\n"
     ]
    }
   ],
   "source": [
    "no4 = input(\"Enter here :\")\n",
    "\n",
    "ans = no4.replace(\" \",\"\")\n",
    "abc = ans.replace(\"@\",\"\")\n",
    "\n",
    "print(abc.lower())"
   ]
  },
  {
   "cell_type": "code",
   "execution_count": null,
   "metadata": {},
   "outputs": [],
   "source": []
  }
 ],
 "metadata": {
  "kernelspec": {
   "display_name": "Python 3",
   "language": "python",
   "name": "python3"
  },
  "language_info": {
   "codemirror_mode": {
    "name": "ipython",
    "version": 3
   },
   "file_extension": ".py",
   "mimetype": "text/x-python",
   "name": "python",
   "nbconvert_exporter": "python",
   "pygments_lexer": "ipython3",
   "version": "3.7.6"
  }
 },
 "nbformat": 4,
 "nbformat_minor": 4
}
